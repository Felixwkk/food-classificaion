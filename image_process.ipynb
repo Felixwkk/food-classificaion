{
  "nbformat": 4,
  "nbformat_minor": 0,
  "metadata": {
    "colab": {
      "name": "image process",
      "provenance": [],
      "authorship_tag": "ABX9TyOYDqjhDuU8VtjTJjmf53PE",
      "include_colab_link": true
    },
    "kernelspec": {
      "name": "python3",
      "display_name": "Python 3"
    }
  },
  "cells": [
    {
      "cell_type": "markdown",
      "metadata": {
        "id": "view-in-github",
        "colab_type": "text"
      },
      "source": [
        "<a href=\"https://colab.research.google.com/github/Felixwkk/food-classificaion/blob/master/image_process.ipynb\" target=\"_parent\"><img src=\"https://colab.research.google.com/assets/colab-badge.svg\" alt=\"Open In Colab\"/></a>"
      ]
    },
    {
      "cell_type": "code",
      "metadata": {
        "id": "41gKknJHO6hh",
        "colab_type": "code",
        "colab": {
          "base_uri": "https://localhost:8080/",
          "height": 253
        },
        "outputId": "4cd1509f-e86e-4d77-e270-e28d8a19a8b0"
      },
      "source": [
        "# https://medium.com/@gianfrancescoangelini/how-to-create-a-dataset-in-google-colab-for-your-machine-learning-projects-c1852d62936e\n",
        "! pip install google_images_download"
      ],
      "execution_count": 1,
      "outputs": [
        {
          "output_type": "stream",
          "text": [
            "Collecting google_images_download\n",
            "  Downloading https://files.pythonhosted.org/packages/18/ed/0319d30c48f3653802da8e6dcfefcea6370157d10d566ef6807cceb5ec4d/google_images_download-2.8.0.tar.gz\n",
            "Collecting selenium\n",
            "\u001b[?25l  Downloading https://files.pythonhosted.org/packages/80/d6/4294f0b4bce4de0abf13e17190289f9d0613b0a44e5dd6a7f5ca98459853/selenium-3.141.0-py2.py3-none-any.whl (904kB)\n",
            "\u001b[K     |████████████████████████████████| 911kB 4.0MB/s \n",
            "\u001b[?25hRequirement already satisfied: urllib3 in /usr/local/lib/python3.6/dist-packages (from selenium->google_images_download) (1.24.3)\n",
            "Building wheels for collected packages: google-images-download\n",
            "  Building wheel for google-images-download (setup.py) ... \u001b[?25l\u001b[?25hdone\n",
            "  Created wheel for google-images-download: filename=google_images_download-2.8.0-py2.py3-none-any.whl size=14550 sha256=4a23f18e35748ee472569baee68bb689b651ad890a658ec5ee8dba7255dd05ea\n",
            "  Stored in directory: /root/.cache/pip/wheels/1f/28/ad/f56e7061e1d2a9a1affe2f9c649c2570cb9198dd24ede0bbab\n",
            "Successfully built google-images-download\n",
            "Installing collected packages: selenium, google-images-download\n",
            "Successfully installed google-images-download-2.8.0 selenium-3.141.0\n"
          ],
          "name": "stdout"
        }
      ]
    },
    {
      "cell_type": "code",
      "metadata": {
        "id": "_7sZ6kZvyBwH",
        "colab_type": "code",
        "colab": {
          "base_uri": "https://localhost:8080/",
          "height": 253
        },
        "outputId": "50fc1ec6-2d0e-4219-dd3e-2e6b44f87e48"
      },
      "source": [
        "!wget https://chromedriver.storage.googleapis.com/2.42/chromedriver_linux64.zip  && unzip chromedriver_linux64"
      ],
      "execution_count": 2,
      "outputs": [
        {
          "output_type": "stream",
          "text": [
            "--2020-01-29 10:11:10--  https://chromedriver.storage.googleapis.com/2.42/chromedriver_linux64.zip\n",
            "Resolving chromedriver.storage.googleapis.com (chromedriver.storage.googleapis.com)... 172.217.203.128, 2607:f8b0:400c:c13::80\n",
            "Connecting to chromedriver.storage.googleapis.com (chromedriver.storage.googleapis.com)|172.217.203.128|:443... connected.\n",
            "HTTP request sent, awaiting response... 200 OK\n",
            "Length: 4039043 (3.9M) [application/zip]\n",
            "Saving to: ‘chromedriver_linux64.zip’\n",
            "\n",
            "\rchromedriver_linux6   0%[                    ]       0  --.-KB/s               \rchromedriver_linux6 100%[===================>]   3.85M  --.-KB/s    in 0.02s   \n",
            "\n",
            "2020-01-29 10:11:10 (219 MB/s) - ‘chromedriver_linux64.zip’ saved [4039043/4039043]\n",
            "\n",
            "Archive:  chromedriver_linux64.zip\n",
            "  inflating: chromedriver            \n"
          ],
          "name": "stdout"
        }
      ]
    },
    {
      "cell_type": "code",
      "metadata": {
        "id": "D-ljJxesyJpe",
        "colab_type": "code",
        "colab": {}
      },
      "source": [
        "colab_path = '/gdrive/../content/'\n",
        "chromedriver_path = '/gdrive/../content/chromedriver'"
      ],
      "execution_count": 0,
      "outputs": []
    },
    {
      "cell_type": "code",
      "metadata": {
        "id": "WNNjvXAByRjb",
        "colab_type": "code",
        "colab": {
          "base_uri": "https://localhost:8080/",
          "height": 120
        },
        "outputId": "020209b9-b8d1-4b41-829c-895d5b07ee95"
      },
      "source": [
        "#Mount the drive from Google to save the dataset\n",
        "from google.colab import drive # this will be our driver\n",
        "drive.mount('/gdrive')\n",
        "root = '/gdrive/My Drive/'     # if you want to operate on your Google Drive"
      ],
      "execution_count": 4,
      "outputs": [
        {
          "output_type": "stream",
          "text": [
            "Go to this URL in a browser: https://accounts.google.com/o/oauth2/auth?client_id=947318989803-6bn6qk8qdgf4n4g3pfee6491hc0brc4i.apps.googleusercontent.com&redirect_uri=urn%3aietf%3awg%3aoauth%3a2.0%3aoob&response_type=code&scope=email%20https%3a%2f%2fwww.googleapis.com%2fauth%2fdocs.test%20https%3a%2f%2fwww.googleapis.com%2fauth%2fdrive%20https%3a%2f%2fwww.googleapis.com%2fauth%2fdrive.photos.readonly%20https%3a%2f%2fwww.googleapis.com%2fauth%2fpeopleapi.readonly\n",
            "\n",
            "Enter your authorization code:\n",
            "··········\n",
            "Mounted at /gdrive\n"
          ],
          "name": "stdout"
        }
      ]
    },
    {
      "cell_type": "code",
      "metadata": {
        "id": "ReoDB56kyc98",
        "colab_type": "code",
        "colab": {
          "base_uri": "https://localhost:8080/",
          "height": 1000
        },
        "outputId": "225bf670-14bb-4063-880d-dec6f3304ed2"
      },
      "source": [
        "from google_images_download import google_images_download   #importing the library\n",
        "\n",
        "keyws   = \"dogs with hats\"\n",
        "limit   = 50\n",
        "chromedriver = chromedriver_path\n",
        "offset  = None  # how many links to skip\n",
        "color_type\t= None# color type you want to apply to the images.[full-color, black-and-white, transparent]\n",
        "size    = None  #relative size of the image to be downloaded. [large, medium, icon, >400*300, >640*480, >800*600, >1024*768, >2MP, >4MP, >6MP, >8MP, >10MP, >12MP, >15MP, >20MP, >40MP, >70MP]\n",
        "usage_rights\t= None #Very important! Check the doc\n",
        "\n",
        "arguments = {\n",
        "        \"keywords\" : keyws,\n",
        "        \"limit\" :limit,\n",
        "        \"chromedriver\":chromedriver,\n",
        "        \"offset\" : offset,\n",
        "        \"color_type\" : color_type,\n",
        "        \"size\" : size,\n",
        "        \"usage_rights\" : usage_rights\n",
        "        }   #creating list of arguments\n",
        "response  = google_images_download.googleimagesdownload()   #class instantiation\n",
        "response.download(arguments) "
      ],
      "execution_count": 5,
      "outputs": [
        {
          "output_type": "stream",
          "text": [
            "\n",
            "Item no.: 1 --> Item name = dogs with hats\n",
            "Evaluating...\n",
            "Starting Download...\n",
            "Completed Image ====> 1.71MCzHzurHL._SL1500_.jpg\n",
            "Completed Image ====> 2.wpgUrQfo_400x400.jpg\n",
            "Completed Image ====> 3.71i8L0TvCNL._SL1500_.jpg\n",
            "Completed Image ====> 4.il_570xN.1883801081_7z1j.jpg\n",
            "Completed Image ====> 5.3240342c444f7b9bcda63de7c568ad41.jpg\n",
            "Completed Image ====> 6.U6s7K3v.jpg\n",
            "Completed Image ====> 7.il_570xN.1330804361_kodf.jpg\n",
            "Completed Image ====> 8.O2vBNJv.jpg\n",
            "Completed Image ====> 9.hqdefault.jpg\n",
            "Completed Image ====> 10.just-a-bunch-of-photos-of-dogs-wearing-tiny-hats-2-23830-1469639136-3_dblbig.jpg\n",
            "Completed Image ====> 11.9b1f1dbcb8cf12f995e28dd5df8707fc.jpg\n",
            "Completed Image ====> 12.71KUsV%2BPhuL._AC_SX425_.jpg\n",
            "Completed Image ====> 13.dog-with-hat-meme-5.png\n",
            "Completed Image ====> 14.BR_mXMBCUAEErWV.jpg\n",
            "Completed Image ====> 15.n4G9jAA.jpg\n",
            "Completed Image ====> 16.BLue_Bobble_Hat_Cover_small2.jpg\n",
            "Completed Image ====> 17.b201a6504db357422451b91503397c37.jpg\n",
            "Completed Image ====> 18.hats-for-dogs-animals-puptrait-fb2-png__700.jpg\n",
            "Completed Image ====> 19.Pet-Dog-Motorcycles-Bike-Helmet-Cap-Yalatan-Summer-Dogs-Hats-for-Small-Dog-Puppy-Pet-Outdoor-Supplies-Sports-Dog-Costumes-Accessories-for-Dog-2-1000x1000.jpg\n",
            "Completed Image ====> 20.dog-with-hat-meme-16.png\n",
            "Completed Image ====> 21.11-64.jpg\n",
            "URLError on an image...trying next one... Error: <urlopen error timed out>\n",
            "Completed Image ====> 22.32418559471_c3767e515c_b.jpg\n",
            "Completed Image ====> 23.I-uncovered-this-lovable-man-on-the-net-on-the-758x1263.jpg\n",
            "Completed Image ====> 24.61lmh1onSNL._SY741_.jpg\n",
            "Completed Image ====> 25.chihuahua_dogs_with_hats_photo_square_sticker-r0574b5a7a6f54db290cbbb0ca7ab8b57_0ugmc_8byvr_540.jpg\n",
            "Completed Image ====> 26.Cute-dog-wearing-a-beautiful-hat-wallpapers-1900x1200-03-540x338.jpg\n",
            "Completed Image ====> 27.091471fddc31c031f576b72ecfd70957--a-pug-pug-dogs.jpg\n",
            "Completed Image ====> 28.630ce0567fbb8eb21d87abd4db124a4d.jpg\n",
            "Completed Image ====> 29.hqdefault.jpg\n",
            "Completed Image ====> 30.Ollie14-Aristocrat__90702.1534297291.jpg\n",
            "Completed Image ====> 31.il_570xN.854226072_6r7o.jpg\n",
            "Completed Image ====> 32.12-dogs-hats.png\n",
            "Completed Image ====> 33.dog-with-hat-meme-3.png\n",
            "Completed Image ====> 34.54f95e062c846_-_dog-chefs-hat-6.jpg\n",
            "Completed Image ====> 35.648f5dc33121644b5018bb0082a9895f.jpg\n",
            "Completed Image ====> 36.f0fZgVNvat0Gg1qILuxhSevnlof9NI5-oFSH13NZyyg.jpg\n",
            "Completed Image ====> 37.512x512bb.jpg\n",
            "Invalid or missing image format. Skipping...\n",
            "Completed Image ====> 38.3E0F50F2511361879000515268608_5e64335a66b.21.0.205D2501-683C-4ED6-BA46-D33519D4DD81.mp4.jpg\n",
            "Completed Image ====> 39.411JGNMEh1L.jpg\n",
            "Completed Image ====> 40.CCO-XM4710_1.jpg\n",
            "Completed Image ====> 41.HTB1B4T8azfguuRjy1zeq6z0KFXae.jpg\n",
            "Completed Image ====> 42.1_Amazing_dogs_with_cute_hats.jpg\n",
            "Completed Image ====> 43.i1kAg91.jpg\n",
            "Completed Image ====> 44.Dogs-Hats6.jpg\n",
            "Completed Image ====> 45.two-small-dogs-with-hats-on-their-heads-c-1836_u-l-p39cz02ff0i2.jpg\n",
            "Completed Image ====> 46.f17f19899c3475df6738ab47e401dd9b--elf-hat-gnome.jpg\n",
            "Completed Image ====> 47.f4c729df-4272-4bc2-9137-df68499c1a28_1.b7516dd660969ab1b1d50eff99f7be84.jpeg\n",
            "Completed Image ====> 48.s-l400.jpg\n",
            "Completed Image ====> 49.99836175cf9eb2cca0817c6f4696080c.jpg\n",
            "Completed Image ====> 50.dog-aviator-hat-and-scarf-costume.jpg\n",
            "\n",
            "Errors: 2\n",
            "\n"
          ],
          "name": "stdout"
        },
        {
          "output_type": "execute_result",
          "data": {
            "text/plain": [
              "({'dogs with hats': ['/content/downloads/dogs with hats/1.71MCzHzurHL._SL1500_.jpg',\n",
              "   '/content/downloads/dogs with hats/2.wpgUrQfo_400x400.jpg',\n",
              "   '/content/downloads/dogs with hats/3.71i8L0TvCNL._SL1500_.jpg',\n",
              "   '/content/downloads/dogs with hats/4.il_570xN.1883801081_7z1j.jpg',\n",
              "   '/content/downloads/dogs with hats/5.3240342c444f7b9bcda63de7c568ad41.jpg',\n",
              "   '/content/downloads/dogs with hats/6.U6s7K3v.jpg',\n",
              "   '/content/downloads/dogs with hats/7.il_570xN.1330804361_kodf.jpg',\n",
              "   '/content/downloads/dogs with hats/8.O2vBNJv.jpg',\n",
              "   '/content/downloads/dogs with hats/9.hqdefault.jpg',\n",
              "   '/content/downloads/dogs with hats/10.just-a-bunch-of-photos-of-dogs-wearing-tiny-hats-2-23830-1469639136-3_dblbig.jpg',\n",
              "   '/content/downloads/dogs with hats/11.9b1f1dbcb8cf12f995e28dd5df8707fc.jpg',\n",
              "   '/content/downloads/dogs with hats/12.71KUsV%2BPhuL._AC_SX425_.jpg',\n",
              "   '/content/downloads/dogs with hats/13.dog-with-hat-meme-5.png',\n",
              "   '/content/downloads/dogs with hats/14.BR_mXMBCUAEErWV.jpg',\n",
              "   '/content/downloads/dogs with hats/15.n4G9jAA.jpg',\n",
              "   '/content/downloads/dogs with hats/16.BLue_Bobble_Hat_Cover_small2.jpg',\n",
              "   '/content/downloads/dogs with hats/17.b201a6504db357422451b91503397c37.jpg',\n",
              "   '/content/downloads/dogs with hats/18.hats-for-dogs-animals-puptrait-fb2-png__700.jpg',\n",
              "   '/content/downloads/dogs with hats/19.Pet-Dog-Motorcycles-Bike-Helmet-Cap-Yalatan-Summer-Dogs-Hats-for-Small-Dog-Puppy-Pet-Outdoor-Supplies-Sports-Dog-Costumes-Accessories-for-Dog-2-1000x1000.jpg',\n",
              "   '/content/downloads/dogs with hats/20.dog-with-hat-meme-16.png',\n",
              "   '/content/downloads/dogs with hats/21.11-64.jpg',\n",
              "   '/content/downloads/dogs with hats/22.32418559471_c3767e515c_b.jpg',\n",
              "   '/content/downloads/dogs with hats/23.I-uncovered-this-lovable-man-on-the-net-on-the-758x1263.jpg',\n",
              "   '/content/downloads/dogs with hats/24.61lmh1onSNL._SY741_.jpg',\n",
              "   '/content/downloads/dogs with hats/25.chihuahua_dogs_with_hats_photo_square_sticker-r0574b5a7a6f54db290cbbb0ca7ab8b57_0ugmc_8byvr_540.jpg',\n",
              "   '/content/downloads/dogs with hats/26.Cute-dog-wearing-a-beautiful-hat-wallpapers-1900x1200-03-540x338.jpg',\n",
              "   '/content/downloads/dogs with hats/27.091471fddc31c031f576b72ecfd70957--a-pug-pug-dogs.jpg',\n",
              "   '/content/downloads/dogs with hats/28.630ce0567fbb8eb21d87abd4db124a4d.jpg',\n",
              "   '/content/downloads/dogs with hats/29.hqdefault.jpg',\n",
              "   '/content/downloads/dogs with hats/30.Ollie14-Aristocrat__90702.1534297291.jpg',\n",
              "   '/content/downloads/dogs with hats/31.il_570xN.854226072_6r7o.jpg',\n",
              "   '/content/downloads/dogs with hats/32.12-dogs-hats.png',\n",
              "   '/content/downloads/dogs with hats/33.dog-with-hat-meme-3.png',\n",
              "   '/content/downloads/dogs with hats/34.54f95e062c846_-_dog-chefs-hat-6.jpg',\n",
              "   '/content/downloads/dogs with hats/35.648f5dc33121644b5018bb0082a9895f.jpg',\n",
              "   '/content/downloads/dogs with hats/36.f0fZgVNvat0Gg1qILuxhSevnlof9NI5-oFSH13NZyyg.jpg',\n",
              "   '/content/downloads/dogs with hats/37.512x512bb.jpg',\n",
              "   '/content/downloads/dogs with hats/38.3E0F50F2511361879000515268608_5e64335a66b.21.0.205D2501-683C-4ED6-BA46-D33519D4DD81.mp4.jpg',\n",
              "   '/content/downloads/dogs with hats/39.411JGNMEh1L.jpg',\n",
              "   '/content/downloads/dogs with hats/40.CCO-XM4710_1.jpg',\n",
              "   '/content/downloads/dogs with hats/41.HTB1B4T8azfguuRjy1zeq6z0KFXae.jpg',\n",
              "   '/content/downloads/dogs with hats/42.1_Amazing_dogs_with_cute_hats.jpg',\n",
              "   '/content/downloads/dogs with hats/43.i1kAg91.jpg',\n",
              "   '/content/downloads/dogs with hats/44.Dogs-Hats6.jpg',\n",
              "   '/content/downloads/dogs with hats/45.two-small-dogs-with-hats-on-their-heads-c-1836_u-l-p39cz02ff0i2.jpg',\n",
              "   '/content/downloads/dogs with hats/46.f17f19899c3475df6738ab47e401dd9b--elf-hat-gnome.jpg',\n",
              "   '/content/downloads/dogs with hats/47.f4c729df-4272-4bc2-9137-df68499c1a28_1.b7516dd660969ab1b1d50eff99f7be84.jpeg',\n",
              "   '/content/downloads/dogs with hats/48.s-l400.jpg',\n",
              "   '/content/downloads/dogs with hats/49.99836175cf9eb2cca0817c6f4696080c.jpg',\n",
              "   '/content/downloads/dogs with hats/50.dog-aviator-hat-and-scarf-costume.jpg']},\n",
              " 2)"
            ]
          },
          "metadata": {
            "tags": []
          },
          "execution_count": 5
        }
      ]
    },
    {
      "cell_type": "code",
      "metadata": {
        "id": "Z2WasRuYyzqW",
        "colab_type": "code",
        "colab": {
          "base_uri": "https://localhost:8080/",
          "height": 203
        },
        "outputId": "e5c76cf4-8969-4939-f917-b39126458c9f"
      },
      "source": [
        "dataset_path = 'downloads/' + keyws + '/'\n",
        "dataset = [ dataset_path + img_name for img_name in drive._os.listdir( colab_path + dataset_path ) ]\n",
        "dataset[:10]  #Peek the first ten"
      ],
      "execution_count": 6,
      "outputs": [
        {
          "output_type": "execute_result",
          "data": {
            "text/plain": [
              "['downloads/dogs with hats/21.11-64.jpg',\n",
              " 'downloads/dogs with hats/11.9b1f1dbcb8cf12f995e28dd5df8707fc.jpg',\n",
              " 'downloads/dogs with hats/40.CCO-XM4710_1.jpg',\n",
              " 'downloads/dogs with hats/39.411JGNMEh1L.jpg',\n",
              " 'downloads/dogs with hats/49.99836175cf9eb2cca0817c6f4696080c.jpg',\n",
              " 'downloads/dogs with hats/7.il_570xN.1330804361_kodf.jpg',\n",
              " 'downloads/dogs with hats/37.512x512bb.jpg',\n",
              " 'downloads/dogs with hats/23.I-uncovered-this-lovable-man-on-the-net-on-the-758x1263.jpg',\n",
              " 'downloads/dogs with hats/22.32418559471_c3767e515c_b.jpg',\n",
              " 'downloads/dogs with hats/6.U6s7K3v.jpg']"
            ]
          },
          "metadata": {
            "tags": []
          },
          "execution_count": 6
        }
      ]
    },
    {
      "cell_type": "code",
      "metadata": {
        "id": "nUz2jqCCzeRd",
        "colab_type": "code",
        "colab": {
          "base_uri": "https://localhost:8080/",
          "height": 289
        },
        "outputId": "bb657afa-dfa6-4d10-c75f-77246a243d26"
      },
      "source": [
        "import matplotlib.pyplot as plt\n",
        "%matplotlib inline\n",
        "plt.imshow( plt.imread( dataset[7] ) )\n",
        "plt.grid(b=None) \n",
        "#remove grid\n",
        "plt.grid(b=None)"
      ],
      "execution_count": 14,
      "outputs": [
        {
          "output_type": "display_data",
          "data": {
            "image/png": "[encoded data removed]",
            "text/plain": [
              "<Figure size 432x288 with 1 Axes>"
            ]
          },
          "metadata": {
            "tags": []
          }
        }
      ]
    },
    {
      "cell_type": "code",
      "metadata": {
        "id": "yvqgcHUrzfOG",
        "colab_type": "code",
        "colab": {}
      },
      "source": [
        ""
      ],
      "execution_count": 0,
      "outputs": []
    }
  ]
}